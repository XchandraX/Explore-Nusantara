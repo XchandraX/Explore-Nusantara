{
  "cells": [
    {
      "cell_type": "markdown",
      "metadata": {
        "id": "1HwZD8PCME_K"
      },
      "source": [
        "# Import Library"
      ]
    },
    {
      "cell_type": "code",
      "execution_count": 1,
      "metadata": {
        "colab": {
          "base_uri": "https://localhost:8080/"
        },
        "id": "RLIc2V2FWBJp",
        "outputId": "035181f6-5982-4cf1-d2fc-87ed4adfe31d"
      },
      "outputs": [
        {
          "name": "stdout",
          "output_type": "stream",
          "text": [
            "Requirement already satisfied: Sastrawi in c:\\users\\user\\appdata\\local\\programs\\python\\python310\\lib\\site-packages (1.0.1)\n"
          ]
        },
        {
          "name": "stderr",
          "output_type": "stream",
          "text": [
            "WARNING: You are using pip version 21.2.3; however, version 25.0.1 is available.\n",
            "You should consider upgrading via the 'C:\\Users\\USER\\AppData\\Local\\Programs\\Python\\Python310\\python.exe -m pip install --upgrade pip' command.\n"
          ]
        }
      ],
      "source": [
        "!pip install Sastrawi\n",
        "import pandas as pd\n",
        "import re\n",
        "from Sastrawi.Stemmer.StemmerFactory import StemmerFactory\n",
        "factory = StemmerFactory()\n",
        "stemmer = factory.create_stemmer()\n",
        "from Sastrawi.StopWordRemover.StopWordRemoverFactory import StopWordRemoverFactory\n",
        "import scipy.sparse as sp\n",
        "from sklearn.feature_extraction.text import TfidfVectorizer\n",
        "from sklearn.preprocessing import LabelEncoder, StandardScaler\n",
        "from sklearn.metrics.pairwise import cosine_similarity\n",
        "from sklearn.model_selection import train_test_split\n",
        "import numpy as np\n",
        "import pickle"
      ]
    },
    {
      "cell_type": "code",
      "execution_count": 2,
      "metadata": {
        "colab": {
          "base_uri": "https://localhost:8080/",
          "height": 236
        },
        "id": "xaQXv9vAHtNJ",
        "outputId": "dcf5fac8-0abf-4fce-edf5-452a5f73147b"
      },
      "outputs": [],
      "source": [
        "dataset= pd.read_csv(\"https://drive.usercontent.google.com/download?id=1P-5QZOlRQIoXyBjH4o4f7UNtPiIUYVJA&export=download&authuser=0&confirm=t&uuid=a252448b-7da8-44eb-bbf8-2a71e61fc027&at=APcmpozEaP7rmd49cPXfMf--50ui:1744382664848\")"
      ]
    },
    {
      "cell_type": "code",
      "execution_count": 3,
      "metadata": {
        "colab": {
          "base_uri": "https://localhost:8080/"
        },
        "collapsed": true,
        "id": "EWYJkIpjGu_e",
        "outputId": "994bbb59-d39c-42e5-ee53-ce3061a1d949"
      },
      "outputs": [
        {
          "name": "stderr",
          "output_type": "stream",
          "text": [
            "C:\\Users\\USER\\AppData\\Local\\Temp\\ipykernel_20256\\4074873564.py:5: SettingWithCopyWarning: \n",
            "A value is trying to be set on a copy of a slice from a DataFrame.\n",
            "Try using .loc[row_indexer,col_indexer] = value instead\n",
            "\n",
            "See the caveats in the documentation: https://pandas.pydata.org/pandas-docs/stable/user_guide/indexing.html#returning-a-view-versus-a-copy\n",
            "  df[col] = df[col].fillna('')\n",
            "C:\\Users\\USER\\AppData\\Local\\Temp\\ipykernel_20256\\4074873564.py:9: SettingWithCopyWarning: \n",
            "A value is trying to be set on a copy of a slice from a DataFrame.\n",
            "Try using .loc[row_indexer,col_indexer] = value instead\n",
            "\n",
            "See the caveats in the documentation: https://pandas.pydata.org/pandas-docs/stable/user_guide/indexing.html#returning-a-view-versus-a-copy\n",
            "  df[col] = df[col].fillna(df[col].mode()[0])\n",
            "C:\\Users\\USER\\AppData\\Local\\Temp\\ipykernel_20256\\4074873564.py:13: SettingWithCopyWarning: \n",
            "A value is trying to be set on a copy of a slice from a DataFrame.\n",
            "Try using .loc[row_indexer,col_indexer] = value instead\n",
            "\n",
            "See the caveats in the documentation: https://pandas.pydata.org/pandas-docs/stable/user_guide/indexing.html#returning-a-view-versus-a-copy\n",
            "  df[col] = df[col].fillna(df[col].median())\n",
            "C:\\Users\\USER\\AppData\\Local\\Temp\\ipykernel_20256\\4074873564.py:16: SettingWithCopyWarning: \n",
            "A value is trying to be set on a copy of a slice from a DataFrame.\n",
            "Try using .loc[row_indexer,col_indexer] = value instead\n",
            "\n",
            "See the caveats in the documentation: https://pandas.pydata.org/pandas-docs/stable/user_guide/indexing.html#returning-a-view-versus-a-copy\n",
            "  df['combined_text'] = df['place_description'] + \" \" + df['description_location']\n",
            "C:\\Users\\USER\\AppData\\Local\\Temp\\ipykernel_20256\\4074873564.py:17: SettingWithCopyWarning: \n",
            "A value is trying to be set on a copy of a slice from a DataFrame.\n",
            "Try using .loc[row_indexer,col_indexer] = value instead\n",
            "\n",
            "See the caveats in the documentation: https://pandas.pydata.org/pandas-docs/stable/user_guide/indexing.html#returning-a-view-versus-a-copy\n",
            "  df['combined_text'] = df['combined_text'].apply(lambda x: stemmer.stem(x))\n",
            "C:\\Users\\USER\\AppData\\Local\\Temp\\ipykernel_20256\\4074873564.py:18: SettingWithCopyWarning: \n",
            "A value is trying to be set on a copy of a slice from a DataFrame.\n",
            "Try using .loc[row_indexer,col_indexer] = value instead\n",
            "\n",
            "See the caveats in the documentation: https://pandas.pydata.org/pandas-docs/stable/user_guide/indexing.html#returning-a-view-versus-a-copy\n",
            "  df['combined_text'] = df['combined_text'].apply(lambda x: x.lower())\n",
            "C:\\Users\\USER\\AppData\\Local\\Temp\\ipykernel_20256\\4074873564.py:19: SettingWithCopyWarning: \n",
            "A value is trying to be set on a copy of a slice from a DataFrame.\n",
            "Try using .loc[row_indexer,col_indexer] = value instead\n",
            "\n",
            "See the caveats in the documentation: https://pandas.pydata.org/pandas-docs/stable/user_guide/indexing.html#returning-a-view-versus-a-copy\n",
            "  df['combined_text'] = df['combined_text'].apply(lambda x: re.sub(r'[^\\w\\s]', '', x))\n",
            "C:\\Users\\USER\\AppData\\Local\\Temp\\ipykernel_20256\\4074873564.py:31: SettingWithCopyWarning: \n",
            "A value is trying to be set on a copy of a slice from a DataFrame.\n",
            "Try using .loc[row_indexer,col_indexer] = value instead\n",
            "\n",
            "See the caveats in the documentation: https://pandas.pydata.org/pandas-docs/stable/user_guide/indexing.html#returning-a-view-versus-a-copy\n",
            "  df['category_encoded'] = le_category.fit_transform(df['category'])\n",
            "C:\\Users\\USER\\AppData\\Local\\Temp\\ipykernel_20256\\4074873564.py:34: SettingWithCopyWarning: \n",
            "A value is trying to be set on a copy of a slice from a DataFrame.\n",
            "Try using .loc[row_indexer,col_indexer] = value instead\n",
            "\n",
            "See the caveats in the documentation: https://pandas.pydata.org/pandas-docs/stable/user_guide/indexing.html#returning-a-view-versus-a-copy\n",
            "  df['city_encoded'] = le_city.fit_transform(df['city'])\n",
            "C:\\Users\\USER\\AppData\\Local\\Temp\\ipykernel_20256\\4074873564.py:38: SettingWithCopyWarning: \n",
            "A value is trying to be set on a copy of a slice from a DataFrame.\n",
            "Try using .loc[row_indexer,col_indexer] = value instead\n",
            "\n",
            "See the caveats in the documentation: https://pandas.pydata.org/pandas-docs/stable/user_guide/indexing.html#returning-a-view-versus-a-copy\n",
            "  df[['rating_scaled']] = scaler.fit_transform(df[['rating']])\n"
          ]
        }
      ],
      "source": [
        "df = dataset[['place_name','place_description','category','city','rating','description_location','longitude','latitude','user_ratings_total']]\n",
        "# Handle missing values\n",
        "text_columns = ['place_description', 'description_location']\n",
        "for col in text_columns:\n",
        "    df[col] = df[col].fillna('')\n",
        "\n",
        "categorical_columns = ['category', 'city']\n",
        "for col in categorical_columns:\n",
        "    df[col] = df[col].fillna(df[col].mode()[0])\n",
        "\n",
        "numeric_columns = ['rating']\n",
        "for col in numeric_columns:\n",
        "    df[col] = df[col].fillna(df[col].median())\n",
        "\n",
        "# Combine text features\n",
        "df['combined_text'] = df['place_description'] + \" \" + df['description_location']\n",
        "df['combined_text'] = df['combined_text'].apply(lambda x: stemmer.stem(x))\n",
        "df['combined_text'] = df['combined_text'].apply(lambda x: x.lower())\n",
        "df['combined_text'] = df['combined_text'].apply(lambda x: re.sub(r'[^\\w\\s]', '', x))\n",
        "\n",
        "# Define Indonesian stopwords\n",
        "indonesian_stopwords = ['yang', 'dan', 'di', 'ke', 'dari', 'ini', 'itu', 'untuk', 'pada', 'dengan',\n",
        "                        'adalah', 'atau', 'jika', 'saya', 'kita', 'akan', 'tidak', 'tersebut']\n",
        "\n",
        "# Create TF-IDF features\n",
        "vectorizer = TfidfVectorizer(stop_words=indonesian_stopwords, max_features=1000)\n",
        "tfidf_matrix = vectorizer.fit_transform(df['combined_text'])\n",
        "\n",
        "# Encode categorical features\n",
        "le_category = LabelEncoder()\n",
        "df['category_encoded'] = le_category.fit_transform(df['category'])\n",
        "\n",
        "le_city = LabelEncoder()\n",
        "df['city_encoded'] = le_city.fit_transform(df['city'])\n",
        "\n",
        "# Scale numerical features\n",
        "scaler = StandardScaler()\n",
        "df[['rating_scaled']] = scaler.fit_transform(df[['rating']])\n",
        "\n",
        "# Combine all features\n",
        "other_features = df[['category_encoded', 'city_encoded', 'rating_scaled']]\n",
        "other_features_sparse = sp.csr_matrix(other_features.values)\n",
        "final_feature_matrix = sp.hstack([tfidf_matrix, other_features_sparse])\n"
      ]
    },
    {
      "cell_type": "code",
      "execution_count": 4,
      "metadata": {
        "id": "k8ERFtK4G539"
      },
      "outputs": [],
      "source": [
        "# Calculate cosine similarity\n",
        "similarity_matrix = cosine_similarity(final_feature_matrix, dense_output=False)\n",
        "\n",
        "# Recommendation function\n",
        "def get_recommendations(place_index, similarity_matrix, df, top_n=5):\n",
        "    if place_index < 0 or place_index >= similarity_matrix.shape[0]:\n",
        "        raise ValueError(\"Invalid place index.\")\n",
        "    similarity_scores = list(enumerate(similarity_matrix[place_index].toarray().flatten()))\n",
        "    similarity_scores = sorted(similarity_scores, key=lambda x: x[1], reverse=True)[1:top_n+1]\n",
        "    recommended_indices = [i[0] for i in similarity_scores]\n",
        "    return recommended_indices"
      ]
    },
    {
      "cell_type": "code",
      "execution_count": 5,
      "metadata": {
        "colab": {
          "base_uri": "https://localhost:8080/"
        },
        "id": "Hwv1nK6DG79z",
        "outputId": "17401229-6bb4-4d3a-bf01-2d35c46d8bbc"
      },
      "outputs": [
        {
          "name": "stdout",
          "output_type": "stream",
          "text": [
            "Recommended indices: [102, 512, 22, 656, 262]\n",
            "                       place_name  \\\n",
            "102           Parangloe Waterfall   \n",
            "512         Wisata Alam Wai Tiddo   \n",
            "22         Pantai Barugaya Punaga   \n",
            "656  Taman Wisata Holyland Malino   \n",
            "262                   Buttu Macca   \n",
            "\n",
            "                                              category  \\\n",
            "102  tourist_attraction, point_of_interest, establi...   \n",
            "512  tourist_attraction, point_of_interest, establi...   \n",
            "22   tourist_attraction, point_of_interest, establi...   \n",
            "656  tourist_attraction, point_of_interest, establi...   \n",
            "262  tourist_attraction, point_of_interest, establi...   \n",
            "\n",
            "                       city  rating  \\\n",
            "102  Sulawesi Selatan 92173     4.5   \n",
            "512  Sulawesi Selatan 91991     4.6   \n",
            "22   Sulawesi Selatan 92261     4.4   \n",
            "656  Sulawesi Selatan 92173     4.4   \n",
            "262  Sulawesi Selatan 91752     4.4   \n",
            "\n",
            "                                             place_img gallery_photo_img1  \\\n",
            "102  https://maps.googleapis.com/maps/api/place/pho...                NaN   \n",
            "512  https://maps.googleapis.com/maps/api/place/pho...                NaN   \n",
            "22   https://maps.googleapis.com/maps/api/place/pho...                NaN   \n",
            "656  https://maps.googleapis.com/maps/api/place/pho...                NaN   \n",
            "262  https://maps.googleapis.com/maps/api/place/pho...                NaN   \n",
            "\n",
            "    gallery_photo_img2 gallery_photo_img3  \n",
            "102                NaN                NaN  \n",
            "512                NaN                NaN  \n",
            "22                 NaN                NaN  \n",
            "656                NaN                NaN  \n",
            "262                NaN                NaN  \n"
          ]
        }
      ],
      "source": [
        "# Get recommendations\n",
        "recommended_indices = get_recommendations(0, similarity_matrix, dataset, top_n=5)\n",
        "recommended_places = dataset.iloc[recommended_indices]\n",
        "print(\"Recommended indices:\", recommended_indices)\n",
        "print(recommended_places[['place_name', 'category', 'city', 'rating',\n",
        "                          'place_img', 'gallery_photo_img1', 'gallery_photo_img2', 'gallery_photo_img3']])"
      ]
    },
    {
      "cell_type": "code",
      "execution_count": 6,
      "metadata": {
        "id": "clb4d_jSRmJm"
      },
      "outputs": [],
      "source": [
        "df = df.merge(\n",
        "\tdataset[['place_name', 'place_img', 'gallery_photo_img1', 'gallery_photo_img2', 'gallery_photo_img3']],\n",
        "\ton='place_name',\n",
        "\thow='left'\n",
        ")\n",
        "\n",
        "# Simpan model ke file pickle\n",
        "with open('recommendation_model.pkl', 'wb') as f:\n",
        "    pickle.dump([similarity_matrix, vectorizer, le_category, le_city, scaler, df], f)"
      ]
    },
    {
      "cell_type": "markdown",
      "metadata": {
        "id": "olQ9LRpWRpOq"
      },
      "source": [
        "**Variabel yang Disimpan**\n",
        "  * similarity_matrix: Matriks kesamaan kosinus.\n",
        "  * vectorizer: Objek TF-IDF Vectorizer.\n",
        "  * le_category: Label Encoder untuk kategori.\n",
        "  * le_city: Label Encoder untuk kota.\n",
        "  * scaler: Standard Scaler untuk rating.\n",
        "  * df: DataFrame yang berisi data tempat (diganti dari dataset untuk konsistensi).\n",
        "---\n",
        "**Cara Memuat Model:**\n",
        "\n",
        "\n",
        "```\n",
        "import pickle\n",
        "with open('recommendation_model.pkl', 'rb') as f:\n",
        "    similarity_matrix, vectorizer, le_category, le_city, scaler, df = pickle.load(f)\n",
        "\n",
        "```\n",
        "\n",
        "\n",
        "\n",
        "\n"
      ]
    }
  ],
  "metadata": {
    "colab": {
      "provenance": []
    },
    "kernelspec": {
      "display_name": "Python 3",
      "name": "python3"
    },
    "language_info": {
      "codemirror_mode": {
        "name": "ipython",
        "version": 3
      },
      "file_extension": ".py",
      "mimetype": "text/x-python",
      "name": "python",
      "nbconvert_exporter": "python",
      "pygments_lexer": "ipython3",
      "version": "3.12.5"
    }
  },
  "nbformat": 4,
  "nbformat_minor": 0
}
